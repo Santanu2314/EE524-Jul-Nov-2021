{
 "cells": [
  {
   "cell_type": "markdown",
   "id": "c17d9032",
   "metadata": {},
   "source": [
    "# Q1"
   ]
  },
  {
   "cell_type": "code",
   "execution_count": 2,
   "id": "88f472f2",
   "metadata": {},
   "outputs": [
    {
     "name": "stdout",
     "output_type": "stream",
     "text": [
      "Hello World!\n"
     ]
    }
   ],
   "source": [
    "#PRINT'Hello World!'\n",
    "print('Hello World!')"
   ]
  },
  {
   "cell_type": "markdown",
   "id": "3620fedb",
   "metadata": {},
   "source": [
    "# Q2"
   ]
  },
  {
   "cell_type": "code",
   "execution_count": 3,
   "id": "ff7a43e6",
   "metadata": {},
   "outputs": [
    {
     "name": "stdout",
     "output_type": "stream",
     "text": [
      "enter first no.: 2\n",
      "enter 2nd no.:5\n",
      "Addition : 7\n",
      "Substraction: -3\n",
      "Multiplication: 10\n",
      "Division: 0.4\n",
      "a%b is: 2\n"
     ]
    }
   ],
   "source": [
    "#Program  for basic algebric operations\n",
    "#input two numbers\n",
    "a=int(input(\"enter first no.: \"))\n",
    "b=int(input(\"enter 2nd no.:\"))\n",
    "#add two numbers\n",
    "c=a+b\n",
    "#substract two numbers\n",
    "d=a-b\n",
    "#multiply two numbers\n",
    "e=a*b\n",
    "#division of  a number\n",
    "f=a/b\n",
    "#remainder of a division\n",
    "g=a%b\n",
    "#print all the operations\n",
    "print('Addition :',c)\n",
    "print('Substraction:',d)\n",
    "print('Multiplication:',e)\n",
    "print('Division:',f)\n",
    "print('a%b is:',g)"
   ]
  },
  {
   "cell_type": "markdown",
   "id": "ae561129",
   "metadata": {},
   "source": [
    "# Q3"
   ]
  },
  {
   "cell_type": "code",
   "execution_count": 4,
   "id": "fb8393ce",
   "metadata": {},
   "outputs": [
    {
     "name": "stdout",
     "output_type": "stream",
     "text": [
      "enter a number:5\n",
      "Factorial of the number= 120\n"
     ]
    }
   ],
   "source": [
    "#FACTORIAL OF A NUMBER\n",
    "#take input number\n",
    "\n",
    "num=int(input(\"enter a number:\"))\n",
    "f=1\n",
    "while(num>0):\n",
    "    f=f*num\n",
    "    num=num-1\n",
    "print(\"Factorial of the number=\",f)\n"
   ]
  },
  {
   "cell_type": "markdown",
   "id": "4ceabc06",
   "metadata": {},
   "source": [
    "# Q4"
   ]
  },
  {
   "cell_type": "code",
   "execution_count": 5,
   "id": "49f9f994",
   "metadata": {},
   "outputs": [
    {
     "name": "stdout",
     "output_type": "stream",
     "text": [
      "Enter the lower interval value:1\n",
      "Enter the upper interval value:20\n",
      "2\n",
      "3\n",
      "5\n",
      "7\n",
      "11\n",
      "13\n",
      "17\n",
      "19\n"
     ]
    }
   ],
   "source": [
    "#Print the prime numbers in a given interval(a,b)\n",
    "\n",
    "a=int(input(\"Enter the lower interval value:\"))\n",
    "b=int(input(\"Enter the upper interval value:\"))\n",
    "if a==1:\n",
    "    a+=1\n",
    "for num in range(a,b+1):\n",
    "    count=0\n",
    "#use for loop to compare the numbers if it is divisible by other numbers except itself and 1 \n",
    "\n",
    "    for x in range(2,num):\n",
    "        if (num%x)==0:\n",
    "            count+=1\n",
    "            break\n",
    "    if count==0:\n",
    "        print(num)\n",
    "                          "
   ]
  },
  {
   "cell_type": "markdown",
   "id": "11a223b7",
   "metadata": {},
   "source": [
    "# Q5"
   ]
  },
  {
   "cell_type": "code",
   "execution_count": 52,
   "id": "e3a891b3",
   "metadata": {},
   "outputs": [
    {
     "name": "stdout",
     "output_type": "stream",
     "text": [
      "enter first number:12\n",
      "enter second number:18\n",
      "LCM of two numbers: 36\n"
     ]
    }
   ],
   "source": [
    "#Program to find the LCM of two numbers\n",
    "\n",
    "a=int(input('enter first number:'))\n",
    "b=int(input('enter second number:'))\n",
    "#Use if statement to find maximum of the two numbers\n",
    "\n",
    "if(a>b):\n",
    "    max=a\n",
    "else:\n",
    "    max=b\n",
    "#Use while loop to find out whether the max%a==0 and max%b==0 or not \n",
    "\n",
    "while(True):\n",
    "    if (max % a ==0 and max % b ==0):\n",
    "        print('LCM of two numbers:',max)\n",
    "        break;\n",
    "#if max%a==0 and max%b==0 not true  increase max by 1\n",
    "\n",
    "    max=max+1 "
   ]
  },
  {
   "cell_type": "markdown",
   "id": "e338e535",
   "metadata": {},
   "source": [
    "# Q6"
   ]
  },
  {
   "cell_type": "code",
   "execution_count": 7,
   "id": "d2e0e4aa",
   "metadata": {
    "scrolled": true
   },
   "outputs": [
    {
     "name": "stdout",
     "output_type": "stream",
     "text": [
      "Enter numbers:20\n",
      "Enter numbers:19\n",
      "Enter numbers:17\n",
      "Enter numbers:1\n",
      "Enter numbers:3\n",
      "Enter numbers:4\n",
      "Enter numbers:2\n",
      "Enter numbers:7\n",
      "Enter numbers:6\n",
      "Enter numbers:9\n",
      "Enter numbers:8\n",
      "Enter numbers:10\n",
      "Enter numbers:13\n",
      "Enter numbers:11\n",
      "Enter numbers:12\n",
      "The sorted array is:\n",
      "[20, 19, 17, 13, 12, 11, 10, 9, 8, 7, 6, 4, 3, 2, 1]\n",
      "The sorted indices are:\n",
      "[0, 1, 2, 12, 14, 13, 11, 9, 10, 7, 8, 5, 4, 6, 3]\n"
     ]
    }
   ],
   "source": [
    "#Program to sort an array in descending order using bubble sort\n",
    "#Fix the length of list\n",
    "\n",
    "size=15 \n",
    "lst=[]\n",
    "ind=[]\n",
    "#take input numbers to sort\n",
    "\n",
    "for i in range(size):\n",
    "    num=int(input('Enter numbers:'))\n",
    "    lst.append(num)\n",
    "    ind.append(i)\n",
    "lst\n",
    "#Use for loop to traverse all array elements\n",
    "\n",
    "for i in range(size):   \n",
    "    for j in range(0,size-i-1):\n",
    "#Traverse the elements from 0 to size-i-1\n",
    "#Swap the elements if present element is less than the next element\n",
    "\n",
    "        if lst[j]<lst[j+1]:\n",
    "            temp=lst[j]\n",
    "            lst[j]=lst[j+1]\n",
    "            lst[j+1]=temp\n",
    "#Sort the indices of corresponding elements           \n",
    "            \n",
    "            temp2=ind[j]\n",
    "            ind[j] = ind[j+1]\n",
    "            ind[j+1]=temp2\n",
    "#Print the sorted array\n",
    "\n",
    "print('The sorted array is:')            \n",
    "print(lst)\n",
    "\n",
    "#Print the sorted indices \n",
    "print('The sorted indices are:')\n",
    "print(ind)\n"
   ]
  },
  {
   "cell_type": "markdown",
   "id": "c983e5a7",
   "metadata": {},
   "source": [
    "\n",
    "## Q7"
   ]
  },
  {
   "cell_type": "code",
   "execution_count": 8,
   "id": "30b471a2",
   "metadata": {},
   "outputs": [
    {
     "name": "stdout",
     "output_type": "stream",
     "text": [
      "Enter numbers:15\n",
      "Enter numbers:12\n",
      "Enter numbers:13\n",
      "Enter numbers:14\n",
      "Enter numbers:17\n",
      "Enter numbers:20\n",
      "Enter numbers:1\n",
      "Enter numbers:2\n",
      "Enter numbers:5\n",
      "Enter numbers:4\n",
      "Enter numbers:6\n",
      "Enter numbers:8\n",
      "Enter numbers:9\n",
      "Enter numbers:3\n",
      "Enter numbers:10\n",
      "Sorted Array: [ 1  2  3  4  5  6  8  9 10 12 13 14 15 17 20]\n",
      "Sorted indices: [ 6  7 13  9  8 10 11 12 14  1  2  3  0  4  5]\n"
     ]
    }
   ],
   "source": [
    "#Program to sort an array in ascending order using numpy\n",
    "#fix the length of list\n",
    "\n",
    "import numpy as np\n",
    "size=15 \n",
    "lst=[]\n",
    "#take input numbers to sort\n",
    "\n",
    "for i in range(size):\n",
    "    num=int(input('Enter numbers:'))\n",
    "    lst.append(num)\n",
    "lst\n",
    "\n",
    "arr=np.array(lst)\n",
    "#sort the numpy array and indices\n",
    "\n",
    "new_arr=np.sort(arr)\n",
    "indx=np.argsort(arr)\n",
    "#Print the sorted array and indices\n",
    "\n",
    "print('Sorted Array:',new_arr)\n",
    "print('Sorted indices:',indx)\n"
   ]
  },
  {
   "cell_type": "markdown",
   "id": "e288aa9c",
   "metadata": {},
   "source": [
    "# Q8"
   ]
  },
  {
   "cell_type": "code",
   "execution_count": 53,
   "id": "7e6082ef",
   "metadata": {},
   "outputs": [
    {
     "name": "stdout",
     "output_type": "stream",
     "text": [
      "Enter number of rows:3\n",
      "Enter number of columns:3\n",
      "M:\n",
      "-1.7335549808727921   -1.2643404274334624   0.5152721312794082   \n",
      "1.3707370402639882   3.7906406468955396   -1.5144604924827854   \n",
      "0.9797407647125103   4.756216974221144   1.9057975481108067   \n"
     ]
    }
   ],
   "source": [
    "import random as rd\n",
    "#Take number of rows and columns as input\n",
    "\n",
    "m=int(input(\"Enter number of rows:\"))\n",
    "n=int(input(\"Enter number of columns:\"))\n",
    "#Fix the range of random values\n",
    "\n",
    "M=[[-2 + rd.random() * (5 - (-2)) for i in range(n)] for j in range(m)]\n",
    "print('M:')\n",
    "#print matrix M\n",
    "\n",
    "for i in range(m):\n",
    "    for j in range(n):\n",
    "        print(M[i][j],end = \"   \")\n",
    "    print()\n",
    "\n",
    "    \n"
   ]
  },
  {
   "cell_type": "markdown",
   "id": "959c94d5",
   "metadata": {},
   "source": [
    "# Q9"
   ]
  },
  {
   "cell_type": "code",
   "execution_count": 17,
   "id": "acd3907d",
   "metadata": {},
   "outputs": [
    {
     "name": "stdout",
     "output_type": "stream",
     "text": [
      "enter the row numbers of M1:2\n",
      "enter the column numbers of M2:2\n",
      "enter the column numbers of M1/row numbers of M2:2\n",
      "Enter the elements for M1:\n",
      "1\n",
      "1\n",
      "2\n",
      "2\n",
      "M1:\n",
      "1    1    \n",
      "2    2    \n",
      "Enter the elements for M2:\n",
      "1\n",
      "2\n",
      "2\n",
      "1\n",
      "M2:\n",
      "1    2    \n",
      "2    1    \n",
      "result is:\n",
      "3    3    \n",
      "6    6    \n"
     ]
    }
   ],
   "source": [
    "#Program to multipy two matrices\n",
    "#Take user input for matrices order\n",
    "\n",
    "m=int(input(\"enter the row numbers of M1:\"))\n",
    "p=int(input('enter the column numbers of M2:'))\n",
    "n=int(input(\"enter the column numbers of M1/row numbers of M2:\"))\n",
    "#Enter the elements of matrix M1\n",
    "\n",
    "print('Enter the elements for M1:')\n",
    "M1=[[int(input()) for i in range(n)] for j in range(m)]\n",
    "print('M1:')\n",
    "#Print the elements of matrix M1\n",
    "\n",
    "for i in range(m):\n",
    "    for j in range(n):\n",
    "        print(format(M1[i][j],\"<5\"),end=\"\")\n",
    "    print()\n",
    "#Enter the elements of matrix M2\n",
    "\n",
    "print('Enter the elements for M2:')\n",
    "M2=[[int(input()) for i in range(p)] for j in range(n)]\n",
    "print('M2:')\n",
    "#Print the elements of matrix M2\n",
    "\n",
    "for i in range(n):\n",
    "    for j in range(p):\n",
    "        print(format(M2[i][j],\"<5\"),end=\"\")\n",
    "    print()\n",
    "#Make another matrix to store multiplication result\n",
    "\n",
    "result=[[0 for i in range(p)] for j in range(m)]\n",
    "#Perform Matrix multiplication using nested for loops\n",
    "\n",
    "for i in range(m):\n",
    "    for j in range(p):\n",
    "        for k in range(n):\n",
    "            result[i][j] += M1[i][k] * M2[k][j]\n",
    "print('result is:')\n",
    "\n",
    "#Print the Multiplication Matrix\n",
    "for i in range(m):\n",
    "    for j in range(p):\n",
    "        print(format(result[i][j],\"<5\"),end=\"\")\n",
    "    print()\n",
    "    "
   ]
  },
  {
   "cell_type": "markdown",
   "id": "d7556ab4",
   "metadata": {},
   "source": [
    "# Q 9.b"
   ]
  },
  {
   "cell_type": "code",
   "execution_count": 15,
   "id": "5b8c1071",
   "metadata": {},
   "outputs": [
    {
     "name": "stdout",
     "output_type": "stream",
     "text": [
      "enter the row numbers of M1:2\n",
      "enter the column numbers of M2:2\n",
      "enter the column numbers of M1/row numbers of M2:2\n",
      "Enter the elements for M1:\n",
      "1\n",
      "1\n",
      "2\n",
      "2\n",
      "M1:\n",
      "1    1    \n",
      "2    2    \n",
      "Enter the elements for M2:\n",
      "1\n",
      "2\n",
      "2\n",
      "1\n",
      "M2:\n",
      "1    2    \n",
      "2    1    \n",
      "result is:\n",
      "3    3    \n",
      "6    6    \n"
     ]
    }
   ],
   "source": [
    "#Program to multipy two matrices using built-in functions\n",
    "##Take user input for matrices order\n",
    "\n",
    "m=int(input(\"enter the row numbers of M1:\"))\n",
    "p=int(input('enter the column numbers of M2:'))\n",
    "n=int(input(\"enter the column numbers of M1/row numbers of M2:\"))\n",
    "#Enter the elements of matrix M1\n",
    "\n",
    "print('Enter the elements for M1:')\n",
    "M1=[[int(input()) for i in range(n)] for j in range(m)]\n",
    "print('M1:')\n",
    "#Print the elements of matrix M1\n",
    "\n",
    "for i in range(m):\n",
    "    for j in range(n):\n",
    "        print(format(M1[i][j],\"<5\"),end=\"\")\n",
    "    print()\n",
    "#Enter the elements of matrix M2\n",
    "\n",
    "print('Enter the elements for M2:')\n",
    "M2=[[int(input()) for i in range(p)] for j in range(n)]\n",
    "print('M2:')\n",
    "#Print the elements of matrix M2\n",
    "\n",
    "for i in range(n):\n",
    "    for j in range(p):\n",
    "        print(format(M2[i][j],\"<5\"),end=\"\")\n",
    "    print()\n",
    "#Make another matrix to store multiplication result\n",
    "\n",
    "result=[[0 for i in range(p)] for j in range(m)]\n",
    "result=np.dot(M1,M2)\n",
    "print('result is:')\n",
    "#Print the Multiplication Matrix\n",
    "\n",
    "for i in range(m):\n",
    "    for j in range(p):\n",
    "        print(format(result[i][j],\"<5\"),end=\"\")\n",
    "    print()\n",
    "    "
   ]
  },
  {
   "cell_type": "markdown",
   "id": "0e68e594",
   "metadata": {},
   "source": [
    "# Q12"
   ]
  },
  {
   "cell_type": "code",
   "execution_count": 13,
   "id": "2f7a3ec0",
   "metadata": {},
   "outputs": [
    {
     "name": "stdout",
     "output_type": "stream",
     "text": [
      "Enter real part of complex number c1 : 2\n",
      "Enter imaginary part of complex number c1 : 3\n",
      "Enter real part of complex number c2 : 3\n",
      "Enter imaginary part of complex number c2 : -4\n",
      "\n",
      "c1 = (2+3j)\n",
      "c2 = (3-4j) \n",
      "\n",
      "conjugate of c1= (2-3j) \n",
      "\n",
      "conjugate of c2= (3+4j) \n",
      "\n",
      "c1 + c2 = (5-1j) \n",
      "\n",
      "c1 - c2 = (-1+7j) \n",
      "\n",
      "c1 * c2 = (18+1j) \n",
      "\n",
      "c1 / c2 = (-0.24+0.68j) \n",
      "\n",
      "|c1| = 3.605551275463989 \n",
      "\n",
      "|c2| = 5.0 \n",
      "\n",
      "∠c1 (in degree) = 56.309932474020215 \n",
      "\n",
      "∠c2 (in degree) = -53.13010235415598\n"
     ]
    }
   ],
   "source": [
    "import numpy as np\n",
    "import cmath\n",
    "#Creating a Class\n",
    "\n",
    "class Complex_number:                      \n",
    "#Defining the class objects\n",
    "\n",
    "    def __init__(self,c1,c2):              \n",
    "        self.c1 = c1\n",
    "        self.c2 = c2\n",
    "        \n",
    "    def conjugate_1(self):                           #Conjugate of a complex number\n",
    "        return complex(self.c1.real, -self.c1.imag) \n",
    "    \n",
    "    def conjugate_2(self):                           \n",
    "        return complex(self.c2.real, -self.c2.imag)  #Conjugate of a complex number\n",
    "    \n",
    "    def addition(self):                    #Addition of two complex numbers\n",
    "        return(self.c1 + self.c2)\n",
    "    \n",
    "    def subtraction(self):                 # Subtraction of two complex numbers\n",
    "        return(self.c1 - self.c2)\n",
    "    \n",
    "    def multiplication(self):              #Multiplication of two complex numbers\n",
    "        return(self.c1 * self.c2)\n",
    "    \n",
    "    def division(self):                    #Division of two complex numbers\n",
    "        return(self.c1 / self.c2)\n",
    "    \n",
    "    def absolute_value_1(self):           # Absolute value of a complex number\n",
    "        a_1 = self.c1.real                # Real part of a complex number\n",
    "        b_1 = self.c1.imag                #Imaginary part of a complex number\n",
    "        a1 = a_1**2\n",
    "        b1 = b_1**2\n",
    "        return((a1+b1)**0.5)\n",
    "    \n",
    "    def absolute_value_2(self):          # Absolute value of a complex number\n",
    "        a_2 = self.c2.real               # Real part of a complex number\n",
    "        b_2 = self.c2.imag               # Imaginary part of a complex number\n",
    "        a2 = a_2**2\n",
    "        b2 = b_2**2\n",
    "        return((a2+b2)**0.5) \n",
    "                                          \n",
    "    def phase_1(self):\n",
    "        return np.degrees(cmath.phase(self.c1))     # Phase value of a complex number\n",
    "    \n",
    "    def phase_2(self):\n",
    "        return np.degrees(cmath.phase(self.c2));    # Phase value of a complex number\n",
    "\n",
    "#  Take User input of complex numbers\n",
    "x1 = int(input(\"Enter real part of complex number c1 : \" ));\n",
    "y1 = int(input(\"Enter imaginary part of complex number c1 : \" ));\n",
    "x2 = int(input(\"Enter real part of complex number c2 : \" ));\n",
    "y2 = int(input(\"Enter imaginary part of complex number c2 : \" ));\n",
    "\n",
    "# Complex numbers\n",
    "\n",
    "x = complex(x1,y1);\n",
    "y = complex(x2,y2);\n",
    "print(\"\\nc1 =\",x);\n",
    "print(\"c2 =\",y,'\\n');\n",
    "\n",
    "c = Complex_number(x,y);\n",
    "#Print the results\n",
    "\n",
    "print(\"conjugate of c1=\",c.conjugate_1(),'\\n')\n",
    "print(\"conjugate of c2=\",c.conjugate_2(),'\\n')\n",
    "print(\"c1 + c2 =\",c.addition(),'\\n');\n",
    "print(\"c1 - c2 =\",c.subtraction(),'\\n');\n",
    "print(\"c1 * c2 =\",c.multiplication(),'\\n');\n",
    "print(\"c1 / c2 =\",c.division(),'\\n');\n",
    "print(\"|c1| =\",c.absolute_value_1(),'\\n');\n",
    "print(\"|c2| =\",c.absolute_value_2(),'\\n');\n",
    "print(\"∠c1 (in degree) =\",c.phase_1(),'\\n');\n",
    "print(\"∠c2 (in degree) =\",c.phase_2());\n",
    "\n",
    "        "
   ]
  },
  {
   "cell_type": "markdown",
   "id": "3713dd5c",
   "metadata": {},
   "source": [
    "# Q13"
   ]
  },
  {
   "cell_type": "code",
   "execution_count": 21,
   "id": "279c8e72",
   "metadata": {},
   "outputs": [],
   "source": [
    "import numpy as np"
   ]
  },
  {
   "cell_type": "code",
   "execution_count": 22,
   "id": "e753f0da",
   "metadata": {},
   "outputs": [
    {
     "data": {
      "text/plain": [
       "[<matplotlib.lines.Line2D at 0xc947eef970>]"
      ]
     },
     "execution_count": 22,
     "metadata": {},
     "output_type": "execute_result"
    },
    {
     "data": {
      "image/png": "[encoded data removed]",
      "text/plain": [
       "<Figure size 432x288 with 1 Axes>"
      ]
     },
     "metadata": {
      "needs_background": "light"
     },
     "output_type": "display_data"
    }
   ],
   "source": [
    "import matplotlib.pyplot as plt\n",
    "%matplotlib inline\n",
    "#Take linearly spaced points between (-10,10)\n",
    "\n",
    "x=np.linspace(-10,10,21)\n",
    "#Write the Equation of line\n",
    "\n",
    "y=3*x+2\n",
    "plt.xlabel('X-Axis')\n",
    "plt.ylabel('Y-Axis')\n",
    "plt.title('Plot')\n",
    "plt.plot(x,y,'r')       #Plot the Function"
   ]
  },
  {
   "cell_type": "markdown",
   "id": "a6bc09de",
   "metadata": {},
   "source": [
    "# Q14"
   ]
  },
  {
   "cell_type": "code",
   "execution_count": 51,
   "id": "408efa31",
   "metadata": {},
   "outputs": [
    {
     "data": {
      "text/plain": [
       "[<matplotlib.lines.Line2D at 0xc94b1ebac0>]"
      ]
     },
     "execution_count": 51,
     "metadata": {},
     "output_type": "execute_result"
    },
    {
     "data": {
      "image/png": "[encoded data removed]",
      "text/plain": [
       "<Figure size 576x360 with 1 Axes>"
      ]
     },
     "metadata": {
      "needs_background": "light"
     },
     "output_type": "display_data"
    }
   ],
   "source": [
    "import numpy as np\n",
    "from matplotlib.patches import Ellipse\n",
    "import random\n",
    "a1=[]\n",
    "b1=[]\n",
    "a2=[]\n",
    "b2=[]\n",
    "\n",
    "fig = plt.figure(figsize=(8,5))\n",
    "ax = fig.add_axes([0.1,0.1,0.9,0.9])\n",
    "\n",
    "x=np.linspace(0,10,100)\n",
    "#Limiting x -axis and y-axis\n",
    "\n",
    "plt.xlim(-5,15)\n",
    "plt.ylim(-10,0)\n",
    "plt.grid(color='lightgrey',linestyle='--')\n",
    "#For generating random points inside Ellipse\n",
    "\n",
    "for i in range (0,50): \n",
    "    a11 = random.uniform(0.5,4.5)            \n",
    "    a1.append(a11)\n",
    "for j in range (0,50):\n",
    "    b11 = random.uniform(-6.5,-3.5)              \n",
    "    b1.append(b11) \n",
    "for i in range (0,50): \n",
    "    a21 = random.uniform(4.5,8)           \n",
    "    a2.append(a21)\n",
    "for j in range (0,50):\n",
    "    b21 = random.uniform(-6.5,-3.5)             \n",
    "    b2.append(b21)\n",
    "#Give labelling\n",
    "\n",
    "plt.xlabel('X Axis')\n",
    "plt.ylabel('Y Axis')\n",
    "plt.title('Ellipse')\n",
    "#Give ellipse specifications\n",
    "\n",
    "ellipse = Ellipse(xy=(5, -5), width=10, height=5, edgecolor='b', fc='none', linewidth=2)\n",
    "#Plot the ellipse and random points\n",
    "\n",
    "ax.add_patch(ellipse)\n",
    "plt.plot(a1,b1,'r.')\n",
    "plt.plot(a2,b2,'r.')"
   ]
  },
  {
   "cell_type": "code",
   "execution_count": null,
   "id": "62f2bb61",
   "metadata": {},
   "outputs": [],
   "source": []
  }
 ],
 "metadata": {
  "kernelspec": {
   "display_name": "Python 3",
   "language": "python",
   "name": "python3"
  },
  "language_info": {
   "codemirror_mode": {
    "name": "ipython",
    "version": 3
   },
   "file_extension": ".py",
   "mimetype": "text/x-python",
   "name": "python",
   "nbconvert_exporter": "python",
   "pygments_lexer": "ipython3",
   "version": "3.8.8"
  }
 },
 "nbformat": 4,
 "nbformat_minor": 5
}
